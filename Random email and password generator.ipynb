{
 "cells": [
  {
   "cell_type": "markdown",
   "id": "31647d49",
   "metadata": {},
   "source": [
    "# Random Email And Password Generator"
   ]
  },
  {
   "cell_type": "code",
   "execution_count": null,
   "id": "e934c9e5",
   "metadata": {},
   "outputs": [],
   "source": [
    "! pip install pandas"
   ]
  },
  {
   "cell_type": "code",
   "execution_count": 38,
   "id": "8da55557",
   "metadata": {},
   "outputs": [],
   "source": [
    "import random \n",
    "import pandas as pd"
   ]
  },
  {
   "cell_type": "code",
   "execution_count": 59,
   "id": "c370d18a",
   "metadata": {},
   "outputs": [
    {
     "name": "stdout",
     "output_type": "stream",
     "text": [
      "Enter your desired Password: qwerty123@$&.\n",
      "Enter your desired Email: qwerty123\n"
     ]
    }
   ],
   "source": [
    "desired_value = input('Enter your desired Password: ')\n",
    "result = [''.join(random.choice(desired_value) for _ in range(6, 18)) for _ in range(1, 26)]\n",
    "desired_value1 = input('Enter your desired Email: ')\n",
    "result1 = [''.join(random.choice(desired_value1) for _ in range(6, 12))+ '@gmail.com' for _ in range(1, 26)]\n",
    "df = pd.DataFrame({\n",
    "    \"Random Email\":result1,\n",
    "    \"Random Password\":result\n",
    "})\n",
    "df.to_excel('Fake email genrator.xlsx', index=False)"
   ]
  }
 ],
 "metadata": {
  "kernelspec": {
   "display_name": "Python 3 (ipykernel)",
   "language": "python",
   "name": "python3"
  },
  "language_info": {
   "codemirror_mode": {
    "name": "ipython",
    "version": 3
   },
   "file_extension": ".py",
   "mimetype": "text/x-python",
   "name": "python",
   "nbconvert_exporter": "python",
   "pygments_lexer": "ipython3",
   "version": "3.10.9"
  }
 },
 "nbformat": 4,
 "nbformat_minor": 5
}
